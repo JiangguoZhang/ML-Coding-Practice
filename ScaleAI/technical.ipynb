{
 "cells": [
  {
   "cell_type": "markdown",
   "source": [
    "# Step 1\n",
    "Read image xxxxx_xxxx.jpeg (imageID_xxxx.jpeg). Return its class index and class label.\n",
    "Input:\n",
    ".json dictionary. key: class index, value: [imageID, class label]\n",
    "image folder\n",
    "Output:\n",
    "[class index, class label]\n"
   ],
   "metadata": {
    "collapsed": false
   },
   "id": "c3949326fda67fe"
  },
  {
   "cell_type": "code",
   "execution_count": null,
   "id": "initial_id",
   "metadata": {
    "collapsed": true
   },
   "outputs": [],
   "source": []
  }
 ],
 "metadata": {
  "kernelspec": {
   "display_name": "Python 3",
   "language": "python",
   "name": "python3"
  },
  "language_info": {
   "codemirror_mode": {
    "name": "ipython",
    "version": 2
   },
   "file_extension": ".py",
   "mimetype": "text/x-python",
   "name": "python",
   "nbconvert_exporter": "python",
   "pygments_lexer": "ipython2",
   "version": "2.7.6"
  }
 },
 "nbformat": 4,
 "nbformat_minor": 5
}
